{
 "cells": [
  {
   "cell_type": "markdown",
   "id": "018bcee2",
   "metadata": {},
   "source": [
    "# Notes from class 20.9.2023\n",
    "\n",
    "## Linear Models for Classifications\n",
    "\n",
    "Main thing of classifications is splitting the data.\n",
    "\n",
    "1. **Definitions.** Math for the Linear Models $\\rightarrow$ $y(x, w) = f(\\vec{w}^T \\phi(x) + w_0) =? \\vec{t}$\n",
    "2. **Decision Boundaries.** Discriminary functions.\n",
    "3. **How do we determine $\\vec{w}$?**\n",
    "    1. Discriminant functions (without direct use of probability).\n",
    "        1. Least-Squares\n",
    "        2. Fisher discriminants (Linear Discriminant Analysis LDA)\n",
    "        3. Perception\n",
    "    2. Solve the inference problem with Bayes. $P(x|C_0)=\\frac{1}{(2\\pi)^{D/2}} \\frac{1}{|\\sum|^{1/2}} * exp(-\\frac{1}{2}*(x-\\mu_0)^D \\sum(x-\\mu_0))$\n",
    "    3. Solve the inference problem directly.\n",
    "        1. One solution: Logistics Regression. $P(C_0|x) = y(\\phi) = \\sigma(w^T \\phi)$ (use Gradient Decent)"
   ]
  },
  {
   "cell_type": "markdown",
   "id": "26f8e9fb",
   "metadata": {},
   "source": [
    "Bayes:\n",
    "$$P\\{C_0|\\vec{x}\\} = \\frac{P(\\vec{x}|C_0)*P(C_0)}{P(x)}$$"
   ]
  },
  {
   "cell_type": "code",
   "execution_count": null,
   "id": "ef44935e",
   "metadata": {},
   "outputs": [],
   "source": []
  }
 ],
 "metadata": {
  "kernelspec": {
   "display_name": "Python 3 (ipykernel)",
   "language": "python",
   "name": "python3"
  },
  "language_info": {
   "codemirror_mode": {
    "name": "ipython",
    "version": 3
   },
   "file_extension": ".py",
   "mimetype": "text/x-python",
   "name": "python",
   "nbconvert_exporter": "python",
   "pygments_lexer": "ipython3",
   "version": "3.9.12"
  }
 },
 "nbformat": 4,
 "nbformat_minor": 5
}
